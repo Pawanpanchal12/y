{
 "cells": [
  {
   "cell_type": "markdown",
   "id": "d5e99441",
   "metadata": {},
   "source": [
    "Problem 1: Bank Account Create a class representing a bank account with attributes like account number, account holder name, and balance. Implement methods to deposit and withdraw money \n",
    "from the account."
   ]
  },
  {
   "cell_type": "code",
   "execution_count": 28,
   "id": "1c7714da",
   "metadata": {},
   "outputs": [],
   "source": [
    "class Bank_Account:\n",
    "    def __init__(self):\n",
    "        self.balance=0\n",
    "        print(\"Welcome to Deposit & Withdrawal Machine!\")\n",
    "        \n",
    "    def deposit(self):\n",
    "        amount=float(input(\"Enter amount to be deposited: \"))\n",
    "        self.balance += amount\n",
    "        print(\"Amount Deposited: \",amount)\n",
    "    def withdraw(self):\n",
    "        amount = float(input(\"Enter amount to withdraw: \"))\n",
    "        if self.balance>=amount:\n",
    "            self.balance-=amount\n",
    "            print(\"You withdraw: \",amount)\n",
    "        else:\n",
    "            print(\"Insufficient balance \")\n",
    "    def display(self):\n",
    "        print(\"Net Available Balance=\",self.balance)\n",
    "        "
   ]
  },
  {
   "cell_type": "code",
   "execution_count": 29,
   "id": "69d36808",
   "metadata": {},
   "outputs": [
    {
     "name": "stdout",
     "output_type": "stream",
     "text": [
      "Welcome to Deposit & Withdrawal Machine!\n"
     ]
    }
   ],
   "source": [
    "s=Bank_Account()"
   ]
  },
  {
   "cell_type": "code",
   "execution_count": 30,
   "id": "102884ef",
   "metadata": {},
   "outputs": [
    {
     "name": "stdout",
     "output_type": "stream",
     "text": [
      "Enter amount to be deposited: 5000\n",
      "Amount Deposited:  5000.0\n"
     ]
    }
   ],
   "source": [
    "s.deposit()"
   ]
  },
  {
   "cell_type": "code",
   "execution_count": 31,
   "id": "16f9d20c",
   "metadata": {},
   "outputs": [
    {
     "name": "stdout",
     "output_type": "stream",
     "text": [
      "Enter amount to withdraw: 2000\n",
      "You withdraw:  2000.0\n"
     ]
    }
   ],
   "source": [
    "s.withdraw()"
   ]
  },
  {
   "cell_type": "code",
   "execution_count": 34,
   "id": "de66b18f",
   "metadata": {},
   "outputs": [
    {
     "name": "stdout",
     "output_type": "stream",
     "text": [
      "Net Available Balance= 1000.0\n"
     ]
    }
   ],
   "source": [
    "s.display()"
   ]
  },
  {
   "cell_type": "markdown",
   "id": "044a064b",
   "metadata": {},
   "source": [
    "Problem 2: Employee Management Create a class representing an employee with attributes like employee ID, name, and salary. Implement methods to calculate the yearly bonus and display employee details."
   ]
  },
  {
   "cell_type": "code",
   "execution_count": 13,
   "id": "b2261d28",
   "metadata": {},
   "outputs": [],
   "source": [
    "class Employee:\n",
    "    def __init__(self, name, emp_id, salary, department):\n",
    "        self.name = name\n",
    "        self.id = emp_id\n",
    "        self.salary = salary\n",
    "        self.department = department\n",
    "\n",
    "    def calculate_salary(self, salary, hours_worked):\n",
    "        overtime = 0\n",
    "        if hours_worked > 50:\n",
    "            overtime = hours_worked - 50\n",
    "        self.salary = self.salary + (overtime * (self.salary / 50))\n",
    "\n",
    "    def assign_department(self, emp_department):\n",
    "        self.department = emp_department\n",
    "\n",
    "    def print_employee_details(self):\n",
    "        print(\"\\nName: \", self.name)\n",
    "        print(\"ID: \", self.id)\n",
    "        print(\"Salary: \", self.salary)\n",
    "        print(\"Department: \", self.department)\n",
    "        print(\"----------------------\")"
   ]
  },
  {
   "cell_type": "code",
   "execution_count": 14,
   "id": "4fc04ef2",
   "metadata": {},
   "outputs": [],
   "source": [
    "Employee1=Employee(\"Pawan\",145,6000,\"Production\")\n",
    "Employee2=Employee(\"Rohit\",566,9000,\"CS Engineer\")"
   ]
  },
  {
   "cell_type": "code",
   "execution_count": 3,
   "id": "aec55639",
   "metadata": {},
   "outputs": [
    {
     "name": "stdout",
     "output_type": "stream",
     "text": [
      "Original Employee Details:\n"
     ]
    }
   ],
   "source": [
    "print(\"Original Employee Details:\")\n"
   ]
  },
  {
   "cell_type": "code",
   "execution_count": 4,
   "id": "6c3b87cf",
   "metadata": {},
   "outputs": [
    {
     "data": {
      "text/plain": [
       "'Production'"
      ]
     },
     "execution_count": 4,
     "metadata": {},
     "output_type": "execute_result"
    }
   ],
   "source": [
    "Employee1.department"
   ]
  },
  {
   "cell_type": "markdown",
   "id": "f65e8173",
   "metadata": {},
   "source": [
    "Problem 3: Vehicle Rental Create a class representing a vehicle rental system. Implement methods to rent a vehicle, return a vehicle, and display available vehicles."
   ]
  },
  {
   "cell_type": "code",
   "execution_count": 2,
   "id": "0b090839",
   "metadata": {},
   "outputs": [],
   "source": [
    "class Car_rental:\n",
    "    def __init__(self,stock):\n",
    "        self.stock=stock\n",
    "    def display_cars(self):\n",
    "        print(\"Cars available in stock =\",self.stock)\n",
    "    def rent_for_cars(self,quantity):\n",
    "        if quantity<=0:\n",
    "            print(\"Enter positive value & greater than zero\")\n",
    "        elif quantity>self.stock :\n",
    "            print(\"Enter value of cars for rent \")\n",
    "        else:\n",
    "            print(\"Total rent to be paid \",quantity*1000)\n",
    "            print(\"Total cars available in stock\",self.stock)"
   ]
  },
  {
   "cell_type": "code",
   "execution_count": 5,
   "id": "c7b4760d",
   "metadata": {},
   "outputs": [],
   "source": [
    "Rent=Car_rental(100)"
   ]
  },
  {
   "cell_type": "code",
   "execution_count": 7,
   "id": "9d5484ee",
   "metadata": {},
   "outputs": [
    {
     "name": "stdout",
     "output_type": "stream",
     "text": [
      "Total rent to be paid  50000\n",
      "Total cars available in stock 100\n"
     ]
    }
   ],
   "source": [
    "Rent.rent_for_cars(50)"
   ]
  },
  {
   "cell_type": "markdown",
   "id": "aea400dc",
   "metadata": {},
   "source": [
    "Problem 4: Library Catalog Create classes representing a library and a book. Implement methods to add books to the library, borrow books, and display available books."
   ]
  },
  {
   "cell_type": "code",
   "execution_count": 8,
   "id": "c8a535e7",
   "metadata": {},
   "outputs": [],
   "source": [
    "class library:\n",
    "    def __init__(self,stock):\n",
    "        self.stock=stock\n",
    "        print(\"Books available in library =\",self.stock)\n",
    "    def add_books(self,add):\n",
    "        print(\"Toatal books available in library\",self.stock+add)\n",
    "        \n",
    "    def borrow_books(self,quantity):\n",
    "        if quantity<=0:\n",
    "            print(\"Enter positive value & greater then zero\")\n",
    "        elif quantity>=self.stock:\n",
    "            print(\"Enter value below stock\")\n",
    "        else:\n",
    "            print(\"Total books available in library= \",self.stock-quantity)"
   ]
  },
  {
   "cell_type": "code",
   "execution_count": 9,
   "id": "ba80ef1e",
   "metadata": {},
   "outputs": [
    {
     "name": "stdout",
     "output_type": "stream",
     "text": [
      "Books available in library = 100\n"
     ]
    }
   ],
   "source": [
    "s=library(100)"
   ]
  },
  {
   "cell_type": "code",
   "execution_count": 10,
   "id": "ef65f90a",
   "metadata": {},
   "outputs": [
    {
     "name": "stdout",
     "output_type": "stream",
     "text": [
      "Total books available in library=  60\n"
     ]
    }
   ],
   "source": [
    "s.borrow_books(40)"
   ]
  },
  {
   "cell_type": "markdown",
   "id": "927740fc",
   "metadata": {},
   "source": [
    "Problem 5: Product Inventory Create classes representing a product and an inventory system. Implement methods to add products to the inventory, update product quantity, and display available products."
   ]
  },
  {
   "cell_type": "code",
   "execution_count": 1,
   "id": "d29fc0ea",
   "metadata": {},
   "outputs": [],
   "source": [
    "class Inventory:\n",
    "    def __init__(self):\n",
    "        self.inventory = {}\n",
    "    def add_item(self, item_id, item_name, stock_count, price):\n",
    "        self.inventory[item_id] = {\"item_name\": item_name, \"stock_count\": stock_count, \"price\": price}\n",
    "\n",
    "    def update_item(self, item_id, stock_count, price):\n",
    "        if item_id in self.inventory:\n",
    "            self.inventory[item_id][\"stock_count\"] = stock_count\n",
    "            self.inventory[item_id][\"price\"] = price\n",
    "        else:\n",
    "            print(\"Item not found in inventory.\")\n",
    "\n",
    "    def check_item_details(self, item_id):\n",
    "        if item_id in self.inventory:\n",
    "            item = self.inventory[item_id]\n",
    "            return f\"Product Name: {item['item_name']}, Stock Count: {item['stock_count']}, Price: {item['price']}\"\n",
    "        else:\n",
    "            return \"Item not found in inventory.\""
   ]
  },
  {
   "cell_type": "code",
   "execution_count": 3,
   "id": "4154d9cf",
   "metadata": {},
   "outputs": [],
   "source": [
    "inventory=Inventory()"
   ]
  },
  {
   "cell_type": "code",
   "execution_count": 4,
   "id": "deee2ae9",
   "metadata": {},
   "outputs": [],
   "source": [
    "inventory.add_item(\"I001\", \"Laptop\", 100, 500.00)\n",
    "inventory.add_item(\"I002\", \"Mobile\", 110, 450.00)\n",
    "inventory.add_item(\"I003\", \"Desktop\", 120, 500.00)\n",
    "inventory.add_item(\"I004\", \"Tablet\", 90, 550.00)"
   ]
  },
  {
   "cell_type": "code",
   "execution_count": 5,
   "id": "91bdc379",
   "metadata": {},
   "outputs": [
    {
     "name": "stdout",
     "output_type": "stream",
     "text": [
      "Item Details:\n",
      "Product Name: Laptop, Stock Count: 100, Price: 500.0\n",
      "Product Name: Mobile, Stock Count: 110, Price: 450.0\n",
      "Product Name: Desktop, Stock Count: 120, Price: 500.0\n",
      "Product Name: Tablet, Stock Count: 90, Price: 550.0\n",
      "\n",
      "Update the price of item code - 'I001':\n",
      "Product Name: Laptop, Stock Count: 100, Price: 505.0\n",
      "\n",
      "Update the stock of item code - 'I003':\n",
      "Product Name: Desktop, Stock Count: 115, Price: 500.0\n"
     ]
    }
   ],
   "source": [
    "print(\"Item Details:\")\n",
    "print(inventory.check_item_details(\"I001\"))\n",
    "print(inventory.check_item_details(\"I002\"))\n",
    "print(inventory.check_item_details(\"I003\"))\n",
    "print(inventory.check_item_details(\"I004\"))\n",
    "print(\"\\nUpdate the price of item code - 'I001':\")\n",
    "inventory.update_item(\"I001\", 100, 505.00)\n",
    "print(inventory.check_item_details(\"I001\"))\n",
    "print(\"\\nUpdate the stock of item code - 'I003':\")\n",
    "inventory.update_item(\"I003\", 115, 500.00)\n",
    "print(inventory.check_item_details(\"I003\"))"
   ]
  },
  {
   "cell_type": "markdown",
   "id": "345314be",
   "metadata": {},
   "source": [
    "Problem 6: Shape Calculation Create a class representing a shape with attributes like length, width, and height. Implement methods to calculate the area and perimeter of the shape."
   ]
  },
  {
   "cell_type": "code",
   "execution_count": 6,
   "id": "51a67760",
   "metadata": {},
   "outputs": [
    {
     "name": "stdout",
     "output_type": "stream",
     "text": [
      "Radius of the circle: 7\n",
      "Circle Area: 153.93804002589985\n",
      "Circle Perimeter: 43.982297150257104\n",
      "\n",
      "Rectangle: Length = 5  Width = 7\n",
      "Rectangle Area: 35\n",
      "Rectangle Perimeter: 24\n",
      "\n",
      "Triangle: Base = 5  Height = 4  side1 = 4  side2 = 3  side3 = 5\n",
      "Triangle Area: 10.0\n",
      "Triangle Perimeter: 12\n"
     ]
    }
   ],
   "source": [
    "import math\n",
    "\n",
    "class Shape:\n",
    "    def calculate_area(self):\n",
    "        pass\n",
    "\n",
    "    def calculate_perimeter(self):\n",
    "        pass\n",
    "\n",
    "\n",
    "class Circle(Shape):\n",
    "    def __init__(self, radius):\n",
    "        self.radius = radius\n",
    "\n",
    "    def calculate_area(self):\n",
    "        return math.pi * self.radius**2\n",
    "\n",
    "    def calculate_perimeter(self):\n",
    "        return 2 * math.pi * self.radius\n",
    "\n",
    "\n",
    "class Rectangle(Shape):\n",
    "    def __init__(self, length, width):\n",
    "        self.length = length\n",
    "        self.width = width\n",
    "\n",
    "    def calculate_area(self):\n",
    "        return self.length * self.width\n",
    "\n",
    "    def calculate_perimeter(self):\n",
    "        return 2 * (self.length + self.width)\n",
    "\n",
    "\n",
    "class Triangle(Shape):\n",
    "    def __init__(self, base, height, side1, side2, side3):\n",
    "        self.base = base\n",
    "        self.height = height\n",
    "        self.side1 = side1\n",
    "        self.side2 = side2\n",
    "        self.side3 = side3\n",
    "\n",
    "    def calculate_area(self):\n",
    "        return 0.5 * self.base * self.height\n",
    "\n",
    "    def calculate_perimeter(self):\n",
    "        return self.side1 + self.side2 + self.side3\n",
    "\n",
    "\n",
    "# Example usage\n",
    "r = 7\n",
    "circle = Circle(r)\n",
    "circle_area = circle.calculate_area()\n",
    "circle_perimeter = circle.calculate_perimeter()\n",
    "\n",
    "print(\"Radius of the circle:\",r)\n",
    "print(\"Circle Area:\", circle_area)\n",
    "print(\"Circle Perimeter:\", circle_perimeter)\n",
    "\n",
    "\n",
    "l = 5\n",
    "w = 7\n",
    "rectangle = Rectangle(l, w)\n",
    "rectangle_area = rectangle.calculate_area()\n",
    "rectangle_perimeter = rectangle.calculate_perimeter()\n",
    "print(\"\\nRectangle: Length =\",l,\" Width =\",w)\n",
    "print(\"Rectangle Area:\", rectangle_area)\n",
    "print(\"Rectangle Perimeter:\", rectangle_perimeter)\n",
    "\n",
    "base = 5\n",
    "height = 4\n",
    "s1 = 4\n",
    "s2 = 3\n",
    "s3 = 5\n",
    "\n",
    "print(\"\\nTriangle: Base =\",base,\" Height =\",height,\" side1 =\",s1,\" side2 =\",s2,\" side3 =\",s3)\n",
    "triangle = Triangle(base,height,s1,s2,s3)\n",
    "triangle_area = triangle.calculate_area()\n",
    "triangle_perimeter = triangle.calculate_perimeter()\n",
    "print(\"Triangle Area:\", triangle_area)\n",
    "print(\"Triangle Perimeter:\", triangle_perimeter)"
   ]
  },
  {
   "cell_type": "markdown",
   "id": "72fa71db",
   "metadata": {},
   "source": [
    "Problem 7: Student Management Create a class representing a student with attributes like student ID, name, and grades. Implement methods to calculate the average grade and display student details."
   ]
  },
  {
   "cell_type": "code",
   "execution_count": 7,
   "id": "6ae5e342",
   "metadata": {},
   "outputs": [
    {
     "name": "stdout",
     "output_type": "stream",
     "text": [
      "\n",
      "Operations used, \n",
      "\n",
      "1.Accept Student details\n",
      "2.Display Student Details\n",
      "3.Search Details of a Student\n",
      "4.Delete Details of Student\n",
      "5.Update Student Details\n",
      "6.Exit\n",
      "\n",
      "\n",
      "\n",
      "List of Students\n",
      "\n",
      "Name :  A\n",
      "RollNo :  1\n",
      "Marks1 :  100\n",
      "Marks2 :  100\n",
      "\n",
      "\n",
      "Name :  B\n",
      "RollNo :  2\n",
      "Marks1 :  90\n",
      "Marks2 :  90\n",
      "\n",
      "\n",
      "Name :  C\n",
      "RollNo :  3\n",
      "Marks1 :  80\n",
      "Marks2 :  80\n",
      "\n",
      "\n",
      "\n",
      " Student Found, \n",
      "Name :  B\n",
      "RollNo :  2\n",
      "Marks1 :  90\n",
      "Marks2 :  90\n",
      "\n",
      "\n",
      "2\n",
      "List after deletion\n",
      "Name :  A\n",
      "RollNo :  1\n",
      "Marks1 :  100\n",
      "Marks2 :  100\n",
      "\n",
      "\n",
      "Name :  C\n",
      "RollNo :  3\n",
      "Marks1 :  80\n",
      "Marks2 :  80\n",
      "\n",
      "\n",
      "2\n",
      "List after updation\n",
      "Name :  A\n",
      "RollNo :  1\n",
      "Marks1 :  100\n",
      "Marks2 :  100\n",
      "\n",
      "\n",
      "Name :  C\n",
      "RollNo :  2\n",
      "Marks1 :  80\n",
      "Marks2 :  80\n",
      "\n",
      "\n",
      "Thank You !\n"
     ]
    }
   ],
   "source": [
    "class Student:\n",
    " \n",
    "  # Constructor\n",
    "    def __init__(self, name, rollno, m1, m2):\n",
    "        self.name = name\n",
    "        self.rollno = rollno\n",
    "        self.m1 = m1\n",
    "        self.m2 = m2\n",
    " \n",
    "    # Function to create and append new student\n",
    "    def accept(self, Name, Rollno, marks1, marks2):\n",
    "   \n",
    "  # use ' int(input()) ' method to take input from user\n",
    "        ob = Student(Name, Rollno, marks1, marks2)\n",
    "        ls.append(ob)\n",
    " \n",
    "    # Function to display student details\n",
    "    def display(self, ob):\n",
    "        print(\"Name : \", ob.name)\n",
    "        print(\"RollNo : \", ob.rollno)\n",
    "        print(\"Marks1 : \", ob.m1)\n",
    "        print(\"Marks2 : \", ob.m2)\n",
    "        print(\"\\n\")\n",
    " \n",
    "    # Search Function\n",
    "    def search(self, rn):\n",
    "        for i in range(ls.__len__()):\n",
    "            if(ls[i].rollno == rn):\n",
    "                return i\n",
    " \n",
    "    # Delete Function\n",
    "    def delete(self, rn):\n",
    "        i = obj.search(rn)\n",
    "        del ls[i]\n",
    " \n",
    "    # Update Function\n",
    "    def update(self, rn, No):\n",
    "        i = obj.search(rn)\n",
    "        roll = No\n",
    "        ls[i].rollno = roll\n",
    " \n",
    " \n",
    "# Create a list to add Students\n",
    "ls = []\n",
    "# an object of Student class\n",
    "obj = Student('', 0, 0, 0)\n",
    " \n",
    "print(\"\\nOperations used, \")\n",
    "print(\"\\n1.Accept Student details\\n2.Display Student Details\\n3.Search Details of a Student\\n4.Delete Details of Student\\n5.Update Student Details\\n6.Exit\")\n",
    " \n",
    "# ch = int(input(\"Enter choice:\"))\n",
    "# if(ch == 1):\n",
    "obj.accept(\"A\", 1, 100, 100)\n",
    "obj.accept(\"B\", 2, 90, 90)\n",
    "obj.accept(\"C\", 3, 80, 80)\n",
    " \n",
    "# elif(ch == 2):\n",
    "print(\"\\n\")\n",
    "print(\"\\nList of Students\\n\")\n",
    "for i in range(ls.__len__()):\n",
    "    obj.display(ls[i])\n",
    " \n",
    "# elif(ch == 3):\n",
    "print(\"\\n Student Found, \")\n",
    "s = obj.search(2)\n",
    "obj.display(ls[s])\n",
    " \n",
    "# elif(ch == 4):\n",
    "obj.delete(2)\n",
    "print(ls.__len__())\n",
    "print(\"List after deletion\")\n",
    "for i in range(ls.__len__()):\n",
    "    obj.display(ls[i])\n",
    " \n",
    "# elif(ch == 5):\n",
    "obj.update(3, 2)\n",
    "print(ls.__len__())\n",
    "print(\"List after updation\")\n",
    "for i in range(ls.__len__()):\n",
    "    obj.display(ls[i])\n",
    " \n",
    "# else:\n",
    "print(\"Thank You !\")"
   ]
  },
  {
   "cell_type": "markdown",
   "id": "9d968990",
   "metadata": {},
   "source": [
    "Problem 8: Email Management Create a class representing an email with attributes like sender, recipient, and subject. Implement methods to send an email and display email details."
   ]
  },
  {
   "cell_type": "code",
   "execution_count": 21,
   "id": "d8f6cc32",
   "metadata": {},
   "outputs": [
    {
     "name": "stdout",
     "output_type": "stream",
     "text": [
      "From: John Doe\n",
      "To: Jane Doe\n"
     ]
    }
   ],
   "source": [
    "class Message:\n",
    "    def __init__(self, sender, recipient):\n",
    "        self.sender = sender\n",
    "        self.recipient = recipient\n",
    " \n",
    "    p1 = Message(\"From: John Doe\", \"To: Jane Doe\")\n",
    " \n",
    "    print(p1.sender)\n",
    "    print(p1.recipient)"
   ]
  },
  {
   "cell_type": "markdown",
   "id": "2812169a",
   "metadata": {},
   "source": [
    "Problem 9: Social Media Profile Create a class representing a social media profile with attributes like username and posts. Implement methods to add posts, display posts, and search for posts by keyword."
   ]
  },
  {
   "cell_type": "code",
   "execution_count": 9,
   "id": "42046425",
   "metadata": {},
   "outputs": [],
   "source": [
    "class facebook:\n",
    "    def __init__(self,userid,password):\n",
    "        self.userid=userid\n",
    "        self.password=password\n",
    "        self.url=\"https://www.facebook.com/\"\n",
    "        \n",
    "    def login(self):\n",
    "        print(\"takeuserid  \" +self.userid  +  \"take password  \"+ self.password + \"hit url  \"+ self.url)\n",
    "        print(\"login\")\n",
    "        \n",
    "    def read_messege(self):\n",
    "        print(\"read messege \"+ self.userid + \" \"+self.password)\n",
    "        \n",
    "    def read_post(self):\n",
    "        print(\"read post\"+self.userid+\" \"+self.password)"
   ]
  },
  {
   "cell_type": "code",
   "execution_count": 10,
   "id": "5ad0a800",
   "metadata": {},
   "outputs": [],
   "source": [
    "user1=facebook(\"user1\",\"pass1\")"
   ]
  },
  {
   "cell_type": "code",
   "execution_count": 11,
   "id": "6a89869b",
   "metadata": {},
   "outputs": [
    {
     "name": "stdout",
     "output_type": "stream",
     "text": [
      "takeuserid  user1take password  pass1hit url  https://www.facebook.com/\n",
      "login\n"
     ]
    }
   ],
   "source": [
    "user1.login()"
   ]
  },
  {
   "cell_type": "code",
   "execution_count": 12,
   "id": "49682564",
   "metadata": {},
   "outputs": [
    {
     "name": "stdout",
     "output_type": "stream",
     "text": [
      "read messege user1 pass1\n"
     ]
    }
   ],
   "source": [
    "user1.read_messege()"
   ]
  },
  {
   "cell_type": "code",
   "execution_count": 13,
   "id": "88d5e72c",
   "metadata": {},
   "outputs": [
    {
     "name": "stdout",
     "output_type": "stream",
     "text": [
      "read postuser1 pass1\n"
     ]
    }
   ],
   "source": [
    "user1.read_post()"
   ]
  },
  {
   "cell_type": "markdown",
   "id": "1207c0ca",
   "metadata": {},
   "source": [
    "Problem 10: ToDo List Create a class representing a ToDo list with attributes like tasks and due dates. Implement methods to add tasks, mark tasks as completed, and display pending tasks.\n",
    "\n"
   ]
  },
  {
   "cell_type": "code",
   "execution_count": null,
   "id": "530ce174",
   "metadata": {},
   "outputs": [
    {
     "name": "stdout",
     "output_type": "stream",
     "text": [
      "\n",
      "Options:\n",
      "1. Add Task\n",
      "2. View Tasks\n",
      "3. Delete Task\n",
      "4. Exit\n",
      "Enter your choice (1/2/3/4): 1\n",
      "Enter task description: Wanna go to gym\n",
      "Enter due date: 3\n",
      "\n",
      "Options:\n",
      "1. Add Task\n",
      "2. View Tasks\n",
      "3. Delete Task\n",
      "4. Exit\n"
     ]
    }
   ],
   "source": [
    "import os\n",
    "\n",
    "def add_task(tasks, description, due_date):\n",
    "    tasks.append({\"description\": description, \"due_date\": due_date})\n",
    "\n",
    "def view_tasks(tasks):\n",
    "    if not tasks:\n",
    "        print(\"No tasks found.\")\n",
    "    else:\n",
    "        print(\"Tasks:\")\n",
    "        for idx, task in enumerate(tasks, start=1):\n",
    "            print(f\"{idx}. {task['description']} - Due Date: {task['due_date']}\")\n",
    "\n",
    "def delete_task(tasks, task_index):\n",
    "    if 1 <= task_index <= len(tasks):\n",
    "        del tasks[task_index - 1]\n",
    "        print(\"Task deleted successfully.\")\n",
    "    else:\n",
    "        print(\"Invalid task index.\")\n",
    "\n",
    "def save_tasks_to_file(tasks, file_path):\n",
    "    with open(file_path, 'w') as f:\n",
    "        for task in tasks:\n",
    "            f.write(f\"{task['description']}|{task['due_date']}\\n\")\n",
    "\n",
    "def load_tasks_from_file(file_path):\n",
    "    tasks = []\n",
    "    if os.path.exists(file_path):\n",
    "        with open(file_path, 'r') as f:\n",
    "            for line in f:\n",
    "                description, due_date = line.strip().split('|')\n",
    "                tasks.append({\"description\": description, \"due_date\": due_date})\n",
    "    return tasks\n",
    "\n",
    "def main():\n",
    "    tasks = []\n",
    "    file_path = \"tasks.txt\"\n",
    "\n",
    "    # Load existing tasks from file (if available)\n",
    "    tasks = load_tasks_from_file(file_path)\n",
    "\n",
    "    while True:\n",
    "        print(\"\\nOptions:\")\n",
    "        print(\"1. Add Task\")\n",
    "        print(\"2. View Tasks\")\n",
    "        print(\"3. Delete Task\")\n",
    "        print(\"4. Exit\")\n",
    "\n",
    "        choice = input(\"Enter your choice (1/2/3/4): \")\n",
    "\n",
    "        if choice == '1':\n",
    "            description = input(\"Enter task description: \")\n",
    "            due_date = input(\"Enter due date: \")\n",
    "            add_task(tasks, description, due_date)\n",
    "            save_tasks_to_file(tasks, file_path)\n",
    "        elif choice == '2':\n",
    "            view_tasks(tasks)\n",
    "        elif choice == '3':\n",
    "            view_tasks(tasks)\n",
    "            task_index = int(input(\"Enter the task index to delete: \"))\n",
    "            delete_task(tasks, task_index)\n",
    "            save_tasks_to_file(tasks, file_path)\n",
    "        elif choice == '4':\n",
    "            print(\"Exiting the To-Do List Application.\")\n",
    "            break\n",
    "        else:\n",
    "            print(\"Invalid choice. Please try again.\")\n",
    "\n",
    "if __name__ == \"__main__\":\n",
    "    main()\n"
   ]
  },
  {
   "cell_type": "code",
   "execution_count": null,
   "id": "799550c4",
   "metadata": {},
   "outputs": [],
   "source": []
  }
 ],
 "metadata": {
  "kernelspec": {
   "display_name": "Python 3 (ipykernel)",
   "language": "python",
   "name": "python3"
  },
  "language_info": {
   "codemirror_mode": {
    "name": "ipython",
    "version": 3
   },
   "file_extension": ".py",
   "mimetype": "text/x-python",
   "name": "python",
   "nbconvert_exporter": "python",
   "pygments_lexer": "ipython3",
   "version": "3.11.4"
  }
 },
 "nbformat": 4,
 "nbformat_minor": 5
}
